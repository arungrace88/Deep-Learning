{
 "cells": [
  {
   "cell_type": "code",
   "execution_count": 4,
   "metadata": {},
   "outputs": [],
   "source": [
    "import tensorflow as tf\n",
    "from tensorflow.keras.preprocessing import sequence\n",
    "from tensorflow.keras.models import Sequential\n",
    "from tensorflow.keras.layers import Dense, LSTM, Embedding\n",
    "from tensorflow.keras.datasets import imdb"
   ]
  },
  {
   "cell_type": "code",
   "execution_count": 5,
   "metadata": {},
   "outputs": [
    {
     "name": "stdout",
     "output_type": "stream",
     "text": [
      "Downloading data from https://storage.googleapis.com/tensorflow/tf-keras-datasets/imdb.npz\n",
      "17465344/17464789 [==============================] - 9s 1us/step\n"
     ]
    }
   ],
   "source": [
    "#Load the model\n",
    "(x_train,y_train), (x_test,y_test) = imdb.load_data(num_words=10000)"
   ]
  },
  {
   "cell_type": "code",
   "execution_count": 21,
   "metadata": {},
   "outputs": [],
   "source": [
    "#To limit the backpropagation through time - limit to 80 words\n",
    "x_train = sequence.pad_sequences(x_train, maxlen= 80)\n",
    "x_test = sequence.pad_sequences(x_test, maxlen= 80)"
   ]
  },
  {
   "cell_type": "code",
   "execution_count": 24,
   "metadata": {},
   "outputs": [],
   "source": [
    "#Build RNN\n",
    "model = Sequential()\n",
    "model.add(Embedding(10000,128))\n",
    "model.add(LSTM(128, dropout=0.2, recurrent_dropout=0.2))\n",
    "model.add(Dense(1, activation= 'sigmoid')) #Sigmoid function for binary classification"
   ]
  },
  {
   "cell_type": "code",
   "execution_count": 27,
   "metadata": {},
   "outputs": [],
   "source": [
    "#Compile the model\n",
    "model.compile(loss='binary_crossentropy',\n",
    "             optimizer='adam',\n",
    "             metrics=['accuracy'])"
   ]
  },
  {
   "cell_type": "code",
   "execution_count": 28,
   "metadata": {},
   "outputs": [
    {
     "name": "stdout",
     "output_type": "stream",
     "text": [
      "Train on 25000 samples, validate on 25000 samples\n",
      "Epoch 1/12\n",
      "25000/25000 - 207s - loss: 0.4570 - accuracy: 0.7871 - val_loss: 0.4306 - val_accuracy: 0.8020\n",
      "Epoch 2/12\n",
      "25000/25000 - 195s - loss: 0.3156 - accuracy: 0.8682 - val_loss: 0.3734 - val_accuracy: 0.8396\n",
      "Epoch 3/12\n",
      "25000/25000 - 193s - loss: 0.2460 - accuracy: 0.9002 - val_loss: 0.3985 - val_accuracy: 0.8355\n",
      "Epoch 4/12\n",
      "25000/25000 - 194s - loss: 0.1952 - accuracy: 0.9249 - val_loss: 0.4144 - val_accuracy: 0.8306\n",
      "Epoch 5/12\n",
      "25000/25000 - 200s - loss: 0.1560 - accuracy: 0.9414 - val_loss: 0.5052 - val_accuracy: 0.8198\n",
      "Epoch 6/12\n",
      "25000/25000 - 192s - loss: 0.1185 - accuracy: 0.9576 - val_loss: 0.5590 - val_accuracy: 0.8305\n",
      "Epoch 7/12\n",
      "25000/25000 - 193s - loss: 0.0958 - accuracy: 0.9649 - val_loss: 0.6198 - val_accuracy: 0.8258\n",
      "Epoch 8/12\n",
      "25000/25000 - 193s - loss: 0.0789 - accuracy: 0.9731 - val_loss: 0.6366 - val_accuracy: 0.8229\n",
      "Epoch 9/12\n",
      "25000/25000 - 194s - loss: 0.0579 - accuracy: 0.9807 - val_loss: 0.7711 - val_accuracy: 0.8212\n",
      "Epoch 10/12\n",
      "25000/25000 - 196s - loss: 0.0398 - accuracy: 0.9871 - val_loss: 0.8502 - val_accuracy: 0.8220\n",
      "Epoch 11/12\n",
      "25000/25000 - 194s - loss: 0.0368 - accuracy: 0.9880 - val_loss: 0.8544 - val_accuracy: 0.8214\n",
      "Epoch 12/12\n",
      "25000/25000 - 193s - loss: 0.0311 - accuracy: 0.9901 - val_loss: 0.9638 - val_accuracy: 0.8183\n"
     ]
    },
    {
     "data": {
      "text/plain": [
       "<tensorflow.python.keras.callbacks.History at 0x280b00ac148>"
      ]
     },
     "execution_count": 28,
     "metadata": {},
     "output_type": "execute_result"
    }
   ],
   "source": [
    "model.fit(x_train,y_train,\n",
    "         batch_size=32,\n",
    "         epochs=12,\n",
    "         verbose=2,\n",
    "         validation_data=(x_test,y_test))"
   ]
  },
  {
   "cell_type": "code",
   "execution_count": 29,
   "metadata": {},
   "outputs": [
    {
     "name": "stdout",
     "output_type": "stream",
     "text": [
      "25000/25000 - 21s - loss: 0.9638 - accuracy: 0.8183\n",
      "Test score: 0.963757\n",
      "Test accuracy: 0.818280\n"
     ]
    }
   ],
   "source": [
    "score,accuracy = model.evaluate(x_test,y_test,\n",
    "                               batch_size=32,\n",
    "                               verbose=2)\n",
    "print('Test score: %f' % score)\n",
    "print('Test accuracy: %f' % accuracy)"
   ]
  },
  {
   "cell_type": "code",
   "execution_count": null,
   "metadata": {},
   "outputs": [],
   "source": []
  }
 ],
 "metadata": {
  "kernelspec": {
   "display_name": "Python 3",
   "language": "python",
   "name": "python3"
  },
  "language_info": {
   "codemirror_mode": {
    "name": "ipython",
    "version": 3
   },
   "file_extension": ".py",
   "mimetype": "text/x-python",
   "name": "python",
   "nbconvert_exporter": "python",
   "pygments_lexer": "ipython3",
   "version": "3.7.6"
  }
 },
 "nbformat": 4,
 "nbformat_minor": 4
}
